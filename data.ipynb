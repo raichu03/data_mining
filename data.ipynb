{
 "cells": [
  {
   "cell_type": "markdown",
   "metadata": {},
   "source": [
    "importing libraries"
   ]
  },
  {
   "cell_type": "code",
   "execution_count": 1,
   "metadata": {},
   "outputs": [
    {
     "name": "stderr",
     "output_type": "stream",
     "text": [
      "/home/raichu/Desktop/projects/data_mining/venv/lib/python3.10/site-packages/tqdm/auto.py:21: TqdmWarning: IProgress not found. Please update jupyter and ipywidgets. See https://ipywidgets.readthedocs.io/en/stable/user_install.html\n",
      "  from .autonotebook import tqdm as notebook_tqdm\n"
     ]
    }
   ],
   "source": [
    "import praw\n",
    "import json\n",
    "import re\n",
    "import google.generativeai as genai\n",
    "import time"
   ]
  },
  {
   "cell_type": "markdown",
   "metadata": {},
   "source": [
    "loading crediientials to scrape the reddit"
   ]
  },
  {
   "cell_type": "code",
   "execution_count": 8,
   "metadata": {},
   "outputs": [],
   "source": [
    "def load_credentials():\n",
    "    with open(\"credentials.json\") as f:\n",
    "        data = json.load(f)\n",
    "    \n",
    "    reddit = praw.Reddit(\n",
    "        client_id=data[\"client_id\"],\n",
    "        client_secret=data[\"client_secret\"],\n",
    "        user_agent=data[\"user_agent\"],\n",
    "    )\n",
    "    \n",
    "    return reddit\n",
    "\n",
    "reddit = load_credentials()"
   ]
  },
  {
   "cell_type": "markdown",
   "metadata": {},
   "source": [
    "script to scrape top post's title and its url and saves in data.json file"
   ]
  },
  {
   "cell_type": "code",
   "execution_count": 12,
   "metadata": {},
   "outputs": [],
   "source": [
    "subName = \"Nepal\"\n",
    "post_limit = None\n",
    "\n",
    "file_path = 'data.json'\n",
    "\n",
    "try:\n",
    "    with open(file_path, 'r') as file:\n",
    "        data = json.load(file)\n",
    "except FileNotFoundError:\n",
    "    data = []\n",
    "    \n",
    "submissions = reddit.subreddit(subName).top(time_filter='month',limit=post_limit)\n",
    "    \n",
    "for subs in submissions:\n",
    "    data.append({'id':subs.id,'title':subs.title,'url':subs.url})\n",
    "\n",
    "with open(file_path, 'w') as file:\n",
    "    json.dump(data, file, indent=4)\n",
    "    \n",
    "print(\"Data saved to file\")\n",
    "    "
   ]
  },
  {
   "cell_type": "markdown",
   "metadata": {},
   "source": [
    "loades the data form the data.json file and prints the total number of data"
   ]
  },
  {
   "cell_type": "code",
   "execution_count": 3,
   "metadata": {},
   "outputs": [
    {
     "name": "stdout",
     "output_type": "stream",
     "text": [
      "964\n"
     ]
    }
   ],
   "source": [
    "with open('data.json', 'r') as file:\n",
    "    post_data = json.load(file)\n",
    "\n",
    "print(len(post_data))"
   ]
  },
  {
   "cell_type": "markdown",
   "metadata": {},
   "source": [
    "this script takes post's url form the data.json and scrapes the posts contents with comments"
   ]
  },
  {
   "cell_type": "code",
   "execution_count": 9,
   "metadata": {},
   "outputs": [],
   "source": [
    "def scraper(url):\n",
    "    submission = reddit.submission(url=url)\n",
    "    body = re.sub(r'\\n', ' ', submission.selftext)\n",
    "    data = []\n",
    "    comments = []\n",
    "    submission.comments.replace_more(limit=None)\n",
    "    for comment in submission.comments.list():\n",
    "        comment = re.sub(r'\\n', ' ', comment.body)\n",
    "        val = re.search(\"https://\", comment)\n",
    "        if val:\n",
    "            continue\n",
    "        else:\n",
    "            comments.append(comment)\n",
    "                \n",
    "    data = {'title': submission.title, 'selftext': body, 'comments': comments}\n",
    "    return data\n",
    "    \n",
    "    "
   ]
  },
  {
   "cell_type": "markdown",
   "metadata": {},
   "source": [
    "this script saves the data in posts.json file and displys the number of posts scraped"
   ]
  },
  {
   "cell_type": "code",
   "execution_count": 13,
   "metadata": {},
   "outputs": [
    {
     "name": "stdout",
     "output_type": "stream",
     "text": [
      "posts.json saved with 60 posts\n"
     ]
    }
   ],
   "source": [
    "file_path = 'posts.json'\n",
    "\n",
    "try:\n",
    "    with open(file_path, 'r') as file:\n",
    "        data = json.load(file)\n",
    "except FileNotFoundError:\n",
    "    data = []\n",
    "    \n",
    "submissions = reddit.subreddit(subName).top(time_filter='month',limit=post_limit)\n",
    "    \n",
    "for i in range(60):\n",
    "    post_url = post_data[i]['url']\n",
    "    data.append(scraper(post_url))\n",
    "\n",
    "with open(file_path, 'w') as file:\n",
    "    json.dump(data, file, indent=4)\n",
    "\n",
    "print(f\"{file_path} saved with {len(data)} posts\")"
   ]
  },
  {
   "cell_type": "markdown",
   "metadata": {},
   "source": [
    "code below loads the credentials for gemini api and loads the model"
   ]
  },
  {
   "cell_type": "code",
   "execution_count": 2,
   "metadata": {},
   "outputs": [],
   "source": [
    "with open('credentials.json') as f:\n",
    "    credentials = json.load(f)\n",
    "\n",
    "GOOGLE_API_KEY=credentials['google_api']\n",
    "genai.configure(api_key=GOOGLE_API_KEY)\n",
    "\n",
    "model = genai.GenerativeModel('gemini-pro')"
   ]
  },
  {
   "cell_type": "markdown",
   "metadata": {},
   "source": [
    "opening the post.json file to get the post body for further analysis"
   ]
  },
  {
   "cell_type": "code",
   "execution_count": 6,
   "metadata": {},
   "outputs": [],
   "source": [
    "file_path = 'posts.json'\n",
    "with open(file_path, 'r') as file:\n",
    "    data = json.load(file)"
   ]
  },
  {
   "cell_type": "markdown",
   "metadata": {},
   "source": [
    "this script uses the gemini model to determine the intent of the user making the post in the reddit and saves the result in intent.json file"
   ]
  },
  {
   "cell_type": "code",
   "execution_count": null,
   "metadata": {},
   "outputs": [],
   "source": [
    "intent_list = []\n",
    "\n",
    "for post in data:\n",
    "    prompt = f\"give one word intention of writing the post: {post['selftext']} answer should be among help, frustration, nostalgia, sharing, warning, appereciation, confusion, expose\"\n",
    "    response = model.generate_content(prompt)\n",
    "    try:\n",
    "        intent = {'title': post['title'], 'intent': response.text}\n",
    "    except:\n",
    "        intent = {'title': post['title'], 'intent': 'None'}\n",
    "    intent_list.append(intent)\n",
    "    time.sleep(4)\n",
    "\n",
    "with open('intent.json', 'w') as f:\n",
    "    json.dump(intent_list, f, indent=4)\n",
    "\n",
    "print(\"generated intent of each post with BERT model successfully!\")"
   ]
  }
 ],
 "metadata": {
  "kernelspec": {
   "display_name": "venv",
   "language": "python",
   "name": "python3"
  },
  "language_info": {
   "codemirror_mode": {
    "name": "ipython",
    "version": 3
   },
   "file_extension": ".py",
   "mimetype": "text/x-python",
   "name": "python",
   "nbconvert_exporter": "python",
   "pygments_lexer": "ipython3",
   "version": "3.10.12"
  }
 },
 "nbformat": 4,
 "nbformat_minor": 2
}
